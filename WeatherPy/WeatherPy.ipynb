{
 "cells": [
  {
   "cell_type": "markdown",
   "metadata": {},
   "source": [
    "# WeatherPy\n",
    "----\n",
    "\n",
    "Analysis\n",
    "1. In the Southern Hempishere, the closer to the equator you are (0°), the hotter the temperature. However in the Northern Hempisphere, the warmer temperatures occur at 30°-40° latitude. That is where California falls, so I can attest to July being the hot season. \n",
    "2. Cities within latitudes -35°-60° had the highest humidity. There wasn't much difference between hemispheres, both have humidity increase as the temperature rises, but being the most humid in cities closest to 0°.\n",
    "3. There wasn't a strong correlation between either wind speed and latitutde or cloudiness and latitude. The similarity they both share is that cities closest to the equator are more cloudy and windy. "
   ]
  },
  {
   "cell_type": "code",
   "execution_count": 1,
   "metadata": {},
   "outputs": [],
   "source": [
    "#pip install citipy"
   ]
  },
  {
   "cell_type": "code",
   "execution_count": 2,
   "metadata": {},
   "outputs": [],
   "source": [
    "#pip install scipy"
   ]
  },
  {
   "cell_type": "code",
   "execution_count": 3,
   "metadata": {
    "scrolled": true
   },
   "outputs": [],
   "source": [
    "# Dependencies and Setup\n",
    "import matplotlib.pyplot as plt\n",
    "import pandas as pd\n",
    "import numpy as np\n",
    "import requests\n",
    "import time\n",
    "from scipy.stats import linregress\n",
    "from pprint import pprint\n",
    "#import json\n",
    "\n",
    "# Import API key\n",
    "from api_keys import weather_api_key\n",
    "\n",
    "# Incorporated citipy to determine city based on latitude and longitude\n",
    "from citipy import citipy\n",
    "\n",
    "# Output File (CSV)\n",
    "output_data_file = \"../Instructions/output_data/cities.csv\"\n",
    "\n",
    "\n",
    "# Range of latitudes and longitudes\n",
    "lat_range = (-90, 90)\n",
    "lng_range = (-180, 180)"
   ]
  },
  {
   "cell_type": "markdown",
   "metadata": {},
   "source": [
    "## Generate Cities List"
   ]
  },
  {
   "cell_type": "code",
   "execution_count": 4,
   "metadata": {},
   "outputs": [
    {
     "data": {
      "text/plain": [
       "605"
      ]
     },
     "execution_count": 4,
     "metadata": {},
     "output_type": "execute_result"
    }
   ],
   "source": [
    "# List for holding lat_lngs and cities\n",
    "lat_lngs = []\n",
    "cities = []\n",
    "\n",
    "# Create a set of random lat and lng combinations\n",
    "lats = np.random.uniform(lat_range[0], lat_range[1], size=1500)\n",
    "lngs = np.random.uniform(lng_range[0], lng_range[1], size=1500)\n",
    "lat_lngs = zip(lats, lngs)\n",
    "\n",
    "# Identify nearest city for each lat, lng combination\n",
    "for lat_lng in lat_lngs:\n",
    "    city = citipy.nearest_city(lat_lng[0], lat_lng[1]).city_name\n",
    "    \n",
    "    # If the city is unique, then add it to a our cities list\n",
    "    if city not in cities:\n",
    "        cities.append(city)\n",
    "\n",
    "# Print the city count to confirm sufficient count\n",
    "len(cities)"
   ]
  },
  {
   "cell_type": "markdown",
   "metadata": {},
   "source": [
    "### Perform API Calls\n",
    "* Perform a weather check on each city using a series of successive API calls.\n",
    "* Include a print log of each city as it'sbeing processed (with the city number and city name).\n"
   ]
  },
  {
   "cell_type": "code",
   "execution_count": 5,
   "metadata": {},
   "outputs": [],
   "source": [
    "# Save config information\n",
    "url = \"http://api.openweathermap.org/data/2.5/weather?\"\n",
    "\n",
    "# Build query URL\n",
    "#query_url = url + \"appid=\" + weather_api_key + \"&q=\" + record"
   ]
  },
  {
   "cell_type": "code",
   "execution_count": 6,
   "metadata": {},
   "outputs": [],
   "source": [
    "# # Get weather data in order to see JSON object\n",
    "# weather_response = requests.get(query_url)\n",
    "# weather_json = weather_response.json()\n",
    "\n",
    "# # Convert to dataframe\n",
    "# city_weather_df=pd.DataFrame(weather_response)\n",
    "\n",
    "# # Get the temperature from the response\n",
    "# print(f\"The weather API responded with: {weather_json}.\")"
   ]
  },
  {
   "cell_type": "code",
   "execution_count": 7,
   "metadata": {},
   "outputs": [
    {
     "name": "stdout",
     "output_type": "stream",
     "text": [
      "Beginning Data Retrieval\n",
      "-----------------------------\n",
      "Processing Record 0 of Set 1 | hilo\n",
      "Processing Record 1 of Set 1 | coihaique\n",
      "Processing Record 2 of Set 1 | vaini\n",
      "Processing Record 3 of Set 1 | bambous virieux\n",
      "Processing Record 4 of Set 1 | richards bay\n",
      "Processing Record 5 of Set 1 | souillac\n",
      "Processing Record 6 of Set 1 | auki\n",
      "Processing Record 7 of Set 1 | jamestown\n",
      "Processing Record 8 of Set 1 | srednekolymsk\n",
      "Processing Record 9 of Set 1 | busselton\n",
      "Processing Record 10 of Set 1 | copiapo\n",
      "Processing Record 11 of Set 1 | illoqqortoormiut\n",
      "City not found. Skipping...\n",
      "Processing Record 12 of Set 1 | huarmey\n",
      "Processing Record 13 of Set 1 | skalistyy\n",
      "City not found. Skipping...\n",
      "Processing Record 14 of Set 1 | clyde river\n",
      "Processing Record 15 of Set 1 | hobart\n",
      "Processing Record 16 of Set 1 | bluff\n",
      "Processing Record 17 of Set 1 | urdzhar\n",
      "City not found. Skipping...\n",
      "Processing Record 18 of Set 1 | castro\n",
      "Processing Record 19 of Set 1 | beloha\n",
      "Processing Record 20 of Set 1 | taolanaro\n",
      "City not found. Skipping...\n",
      "Processing Record 21 of Set 1 | emerald\n",
      "Processing Record 22 of Set 1 | atar\n",
      "Processing Record 23 of Set 1 | ushuaia\n",
      "Processing Record 24 of Set 1 | terrace\n",
      "Processing Record 25 of Set 1 | adrar\n",
      "Processing Record 26 of Set 1 | mar del plata\n",
      "Processing Record 27 of Set 1 | saint george\n",
      "Processing Record 28 of Set 1 | kemijarvi\n",
      "Processing Record 29 of Set 1 | yellowknife\n",
      "Processing Record 30 of Set 1 | monrovia\n",
      "Processing Record 31 of Set 1 | amderma\n",
      "City not found. Skipping...\n",
      "Processing Record 32 of Set 1 | bafia\n",
      "Processing Record 33 of Set 1 | saleaula\n",
      "City not found. Skipping...\n",
      "Processing Record 34 of Set 1 | hermanus\n",
      "Processing Record 35 of Set 1 | zhigalovo\n",
      "Processing Record 36 of Set 1 | solone\n",
      "Processing Record 37 of Set 1 | bandarbeyla\n",
      "Processing Record 38 of Set 1 | mataura\n",
      "Processing Record 39 of Set 1 | saskylakh\n",
      "Processing Record 40 of Set 1 | ilulissat\n",
      "Processing Record 41 of Set 1 | albany\n",
      "Processing Record 42 of Set 1 | tumannyy\n",
      "City not found. Skipping...\n",
      "Processing Record 43 of Set 1 | tuatapere\n",
      "Processing Record 44 of Set 1 | sentyabrskiy\n",
      "City not found. Skipping...\n",
      "Processing Record 45 of Set 1 | saldanha\n",
      "Processing Record 46 of Set 1 | nishihara\n",
      "Processing Record 47 of Set 1 | avera\n",
      "Processing Record 48 of Set 1 | dzhusaly\n",
      "City not found. Skipping...\n",
      "Processing Record 49 of Set 1 | mahibadhoo\n",
      "Processing Record 0 of Set 2 | aflu\n",
      "City not found. Skipping...\n",
      "Processing Record 1 of Set 2 | tuktoyaktuk\n",
      "Processing Record 2 of Set 2 | louisbourg\n",
      "City not found. Skipping...\n",
      "Processing Record 3 of Set 2 | cayenne\n",
      "Processing Record 4 of Set 2 | shizunai\n",
      "Processing Record 5 of Set 2 | sitka\n",
      "Processing Record 6 of Set 2 | kapaa\n",
      "Processing Record 7 of Set 2 | kamra\n",
      "Processing Record 8 of Set 2 | constitucion\n",
      "Processing Record 9 of Set 2 | havoysund\n",
      "Processing Record 10 of Set 2 | tasiilaq\n",
      "Processing Record 11 of Set 2 | ostersund\n",
      "Processing Record 12 of Set 2 | avarua\n",
      "Processing Record 13 of Set 2 | bengkulu\n",
      "Processing Record 14 of Set 2 | azimur\n",
      "City not found. Skipping...\n",
      "Processing Record 15 of Set 2 | sao filipe\n",
      "Processing Record 16 of Set 2 | norman wells\n",
      "Processing Record 17 of Set 2 | ulladulla\n",
      "Processing Record 18 of Set 2 | attawapiskat\n",
      "City not found. Skipping...\n",
      "Processing Record 19 of Set 2 | provideniya\n",
      "Processing Record 20 of Set 2 | oga\n",
      "Processing Record 21 of Set 2 | punta arenas\n",
      "Processing Record 22 of Set 2 | airai\n",
      "Processing Record 23 of Set 2 | guerrero negro\n",
      "Processing Record 24 of Set 2 | puerto ayora\n",
      "Processing Record 25 of Set 2 | tiznit\n",
      "Processing Record 26 of Set 2 | saint-philippe\n",
      "Processing Record 27 of Set 2 | salinopolis\n",
      "Processing Record 28 of Set 2 | karaidel\n",
      "Processing Record 29 of Set 2 | rolim de moura\n",
      "City not found. Skipping...\n",
      "Processing Record 30 of Set 2 | georgetown\n",
      "Processing Record 31 of Set 2 | port alfred\n",
      "Processing Record 32 of Set 2 | new london\n",
      "Processing Record 33 of Set 2 | partyzany\n",
      "Processing Record 34 of Set 2 | polovinnoye\n",
      "Processing Record 35 of Set 2 | tiksi\n",
      "Processing Record 36 of Set 2 | belushya guba\n",
      "City not found. Skipping...\n",
      "Processing Record 37 of Set 2 | vao\n",
      "Processing Record 38 of Set 2 | tsihombe\n",
      "City not found. Skipping...\n",
      "Processing Record 39 of Set 2 | qaanaaq\n",
      "Processing Record 40 of Set 2 | arona\n",
      "Processing Record 41 of Set 2 | luhyny\n",
      "Processing Record 42 of Set 2 | coos bay\n",
      "Processing Record 43 of Set 2 | ijaki\n",
      "City not found. Skipping...\n",
      "Processing Record 44 of Set 2 | dikson\n",
      "Processing Record 45 of Set 2 | colac\n",
      "Processing Record 46 of Set 2 | atasu\n",
      "Processing Record 47 of Set 2 | cape town\n",
      "Processing Record 48 of Set 2 | riyadh\n",
      "Processing Record 49 of Set 2 | chuy\n",
      "Processing Record 0 of Set 3 | grand river south east\n",
      "City not found. Skipping...\n",
      "Processing Record 1 of Set 3 | solnechnyy\n",
      "Processing Record 2 of Set 3 | tabiauea\n",
      "City not found. Skipping...\n",
      "Processing Record 3 of Set 3 | alice springs\n",
      "Processing Record 4 of Set 3 | rikitea\n",
      "Processing Record 5 of Set 3 | linxia\n",
      "Processing Record 6 of Set 3 | faya\n",
      "Processing Record 7 of Set 3 | sinnamary\n",
      "Processing Record 8 of Set 3 | ouro fino\n",
      "Processing Record 9 of Set 3 | roma\n",
      "Processing Record 10 of Set 3 | mys shmidta\n",
      "City not found. Skipping...\n",
      "Processing Record 11 of Set 3 | kyra\n",
      "Processing Record 12 of Set 3 | arraial do cabo\n",
      "Processing Record 13 of Set 3 | champerico\n",
      "Processing Record 14 of Set 3 | victoria\n",
      "Processing Record 15 of Set 3 | plasnica\n",
      "Processing Record 16 of Set 3 | rehoboth\n",
      "Processing Record 17 of Set 3 | sept-iles\n",
      "Processing Record 18 of Set 3 | barentsburg\n",
      "City not found. Skipping...\n",
      "Processing Record 19 of Set 3 | padang\n",
      "Processing Record 20 of Set 3 | juneau\n",
      "Processing Record 21 of Set 3 | rio grande\n",
      "Processing Record 22 of Set 3 | elk city\n",
      "Processing Record 23 of Set 3 | butaritari\n",
      "Processing Record 24 of Set 3 | maldonado\n",
      "Processing Record 25 of Set 3 | sur\n",
      "Processing Record 26 of Set 3 | port elizabeth\n",
      "Processing Record 27 of Set 3 | havre-saint-pierre\n",
      "Processing Record 28 of Set 3 | soe\n",
      "Processing Record 29 of Set 3 | ostrovnoy\n",
      "Processing Record 30 of Set 3 | ohara\n",
      "Processing Record 31 of Set 3 | alugan\n",
      "Processing Record 32 of Set 3 | ardesen\n",
      "Processing Record 33 of Set 3 | new norfolk\n",
      "Processing Record 34 of Set 3 | leh\n",
      "Processing Record 35 of Set 3 | acapulco\n",
      "Processing Record 36 of Set 3 | kiama\n",
      "Processing Record 37 of Set 3 | damietta\n",
      "Processing Record 38 of Set 3 | misratah\n",
      "Processing Record 39 of Set 3 | gimli\n",
      "Processing Record 40 of Set 3 | codrington\n",
      "Processing Record 41 of Set 3 | barrow\n",
      "Processing Record 42 of Set 3 | dingle\n",
      "Processing Record 43 of Set 3 | chagda\n",
      "City not found. Skipping...\n",
      "Processing Record 44 of Set 3 | duldurga\n",
      "Processing Record 45 of Set 3 | matagami\n",
      "Processing Record 46 of Set 3 | carnarvon\n",
      "Processing Record 47 of Set 3 | hithadhoo\n",
      "Processing Record 48 of Set 3 | araouane\n",
      "Processing Record 49 of Set 3 | panalingaan\n",
      "Processing Record 0 of Set 4 | mahebourg\n",
      "Processing Record 1 of Set 4 | bredasdorp\n",
      "Processing Record 2 of Set 4 | santa maria\n",
      "Processing Record 3 of Set 4 | narsaq\n",
      "Processing Record 4 of Set 4 | lagoa\n",
      "Processing Record 5 of Set 4 | atuona\n",
      "Processing Record 6 of Set 4 | umzimvubu\n",
      "City not found. Skipping...\n",
      "Processing Record 7 of Set 4 | ngunguru\n",
      "Processing Record 8 of Set 4 | ca mau\n",
      "Processing Record 9 of Set 4 | uaua\n",
      "Processing Record 10 of Set 4 | portland\n",
      "Processing Record 11 of Set 4 | rincon\n",
      "Processing Record 12 of Set 4 | coihueco\n",
      "Processing Record 13 of Set 4 | torbay\n",
      "Processing Record 14 of Set 4 | presidente medici\n",
      "Processing Record 15 of Set 4 | lubumbashi\n",
      "Processing Record 16 of Set 4 | jiaozuo\n",
      "Processing Record 17 of Set 4 | leningradskiy\n",
      "Processing Record 18 of Set 4 | klaksvik\n",
      "Processing Record 19 of Set 4 | jeremoabo\n",
      "Processing Record 20 of Set 4 | malwan\n",
      "City not found. Skipping...\n",
      "Processing Record 21 of Set 4 | fort nelson\n",
      "Processing Record 22 of Set 4 | bowen\n",
      "Processing Record 23 of Set 4 | ahuimanu\n",
      "Processing Record 24 of Set 4 | prince rupert\n",
      "Processing Record 25 of Set 4 | olafsvik\n",
      "Processing Record 26 of Set 4 | comodoro rivadavia\n",
      "Processing Record 27 of Set 4 | nizhneyansk\n",
      "City not found. Skipping...\n",
      "Processing Record 28 of Set 4 | esperance\n",
      "Processing Record 29 of Set 4 | kavaratti\n",
      "Processing Record 30 of Set 4 | lolua\n"
     ]
    },
    {
     "name": "stdout",
     "output_type": "stream",
     "text": [
      "City not found. Skipping...\n",
      "Processing Record 31 of Set 4 | conceicao das alagoas\n",
      "Processing Record 32 of Set 4 | parana\n",
      "Processing Record 33 of Set 4 | ushirombo\n",
      "Processing Record 34 of Set 4 | labuhan\n",
      "Processing Record 35 of Set 4 | tonantins\n",
      "Processing Record 36 of Set 4 | bridlington\n",
      "Processing Record 37 of Set 4 | pisco\n",
      "Processing Record 38 of Set 4 | harper\n",
      "Processing Record 39 of Set 4 | batticaloa\n",
      "Processing Record 40 of Set 4 | necochea\n",
      "Processing Record 41 of Set 4 | el faiyum\n",
      "City not found. Skipping...\n",
      "Processing Record 42 of Set 4 | chama\n",
      "Processing Record 43 of Set 4 | mocuba\n",
      "Processing Record 44 of Set 4 | suoyarvi\n",
      "Processing Record 45 of Set 4 | kuandian\n",
      "Processing Record 46 of Set 4 | yagoua\n",
      "Processing Record 47 of Set 4 | severo-kurilsk\n",
      "Processing Record 48 of Set 4 | marcona\n",
      "City not found. Skipping...\n",
      "Processing Record 49 of Set 4 | chulym\n",
      "Processing Record 0 of Set 5 | luderitz\n",
      "Processing Record 1 of Set 5 | meulaboh\n",
      "Processing Record 2 of Set 5 | the valley\n",
      "Processing Record 3 of Set 5 | maryville\n",
      "Processing Record 4 of Set 5 | gat\n",
      "Processing Record 5 of Set 5 | chokurdakh\n",
      "Processing Record 6 of Set 5 | aswan\n",
      "Processing Record 7 of Set 5 | meyungs\n",
      "City not found. Skipping...\n",
      "Processing Record 8 of Set 5 | deputatskiy\n",
      "Processing Record 9 of Set 5 | san quintin\n",
      "Processing Record 10 of Set 5 | awjilah\n",
      "Processing Record 11 of Set 5 | vrangel\n",
      "Processing Record 12 of Set 5 | klyuchi\n",
      "Processing Record 13 of Set 5 | kodiak\n",
      "Processing Record 14 of Set 5 | buala\n",
      "Processing Record 15 of Set 5 | marawi\n",
      "Processing Record 16 of Set 5 | orange walk\n",
      "Processing Record 17 of Set 5 | kaitangata\n",
      "Processing Record 18 of Set 5 | mount isa\n",
      "Processing Record 19 of Set 5 | killybegs\n",
      "Processing Record 20 of Set 5 | okhotsk\n",
      "Processing Record 21 of Set 5 | sao joao da barra\n",
      "Processing Record 22 of Set 5 | beira\n",
      "Processing Record 23 of Set 5 | bosaso\n",
      "Processing Record 24 of Set 5 | elze\n",
      "Processing Record 25 of Set 5 | bakel\n",
      "Processing Record 26 of Set 5 | todos santos\n",
      "Processing Record 27 of Set 5 | neuquen\n",
      "Processing Record 28 of Set 5 | guanica\n",
      "Processing Record 29 of Set 5 | lazaro cardenas\n",
      "Processing Record 30 of Set 5 | bethel\n",
      "Processing Record 31 of Set 5 | nikolskoye\n",
      "Processing Record 32 of Set 5 | vila velha\n",
      "Processing Record 33 of Set 5 | durazno\n",
      "Processing Record 34 of Set 5 | lock haven\n",
      "Processing Record 35 of Set 5 | san carlos de bariloche\n",
      "Processing Record 36 of Set 5 | jan kempdorp\n",
      "Processing Record 37 of Set 5 | wampusirpi\n",
      "City not found. Skipping...\n",
      "Processing Record 38 of Set 5 | mtambile\n",
      "Processing Record 39 of Set 5 | ajdabiya\n",
      "Processing Record 40 of Set 5 | olinda\n",
      "Processing Record 41 of Set 5 | demba\n",
      "Processing Record 42 of Set 5 | mildura\n",
      "Processing Record 43 of Set 5 | tual\n",
      "Processing Record 44 of Set 5 | lebu\n",
      "Processing Record 45 of Set 5 | moose factory\n",
      "Processing Record 46 of Set 5 | breytovo\n",
      "Processing Record 47 of Set 5 | katsuura\n",
      "Processing Record 48 of Set 5 | pemangkat\n",
      "Processing Record 49 of Set 5 | mto wa mbu\n",
      "Processing Record 0 of Set 6 | faro\n",
      "Processing Record 1 of Set 6 | thompson\n",
      "Processing Record 2 of Set 6 | miraflores\n",
      "Processing Record 3 of Set 6 | aldan\n",
      "Processing Record 4 of Set 6 | karamea\n",
      "City not found. Skipping...\n",
      "Processing Record 5 of Set 6 | boyolangu\n",
      "Processing Record 6 of Set 6 | upernavik\n",
      "Processing Record 7 of Set 6 | vardo\n",
      "Processing Record 8 of Set 6 | kasongo-lunda\n",
      "Processing Record 9 of Set 6 | maceio\n",
      "Processing Record 10 of Set 6 | broome\n",
      "Processing Record 11 of Set 6 | geraldton\n",
      "Processing Record 12 of Set 6 | waynesville\n",
      "Processing Record 13 of Set 6 | khatanga\n",
      "Processing Record 14 of Set 6 | udachnyy\n",
      "Processing Record 15 of Set 6 | hargeysa\n",
      "Processing Record 16 of Set 6 | tazovskiy\n",
      "Processing Record 17 of Set 6 | rio gallegos\n",
      "Processing Record 18 of Set 6 | karratha\n",
      "Processing Record 19 of Set 6 | camp verde\n",
      "Processing Record 20 of Set 6 | ancud\n",
      "Processing Record 21 of Set 6 | lamar\n",
      "Processing Record 22 of Set 6 | tura\n",
      "Processing Record 23 of Set 6 | vaitupu\n",
      "City not found. Skipping...\n",
      "Processing Record 24 of Set 6 | burhar\n",
      "Processing Record 25 of Set 6 | kozachi laheri\n",
      "Processing Record 26 of Set 6 | prado\n",
      "Processing Record 27 of Set 6 | la ronge\n",
      "Processing Record 28 of Set 6 | flinders\n",
      "Processing Record 29 of Set 6 | manado\n",
      "Processing Record 30 of Set 6 | bakchar\n",
      "Processing Record 31 of Set 6 | barabai\n",
      "Processing Record 32 of Set 6 | kaoma\n",
      "Processing Record 33 of Set 6 | caravelas\n",
      "Processing Record 34 of Set 6 | taltal\n",
      "Processing Record 35 of Set 6 | laguna\n",
      "Processing Record 36 of Set 6 | galesong\n",
      "Processing Record 37 of Set 6 | samalaeulu\n",
      "City not found. Skipping...\n",
      "Processing Record 38 of Set 6 | valparaiso\n",
      "Processing Record 39 of Set 6 | dombasle-sur-meurthe\n",
      "Processing Record 40 of Set 6 | kavieng\n",
      "Processing Record 41 of Set 6 | sioux lookout\n",
      "Processing Record 42 of Set 6 | ponta do sol\n",
      "Processing Record 43 of Set 6 | fairbanks\n",
      "Processing Record 44 of Set 6 | kruisfontein\n",
      "Processing Record 45 of Set 6 | muros\n",
      "Processing Record 46 of Set 6 | anuradhapura\n",
      "Processing Record 47 of Set 6 | dukat\n",
      "Processing Record 48 of Set 6 | pevek\n",
      "Processing Record 49 of Set 6 | honningsvag\n",
      "Processing Record 0 of Set 7 | dire\n",
      "Processing Record 1 of Set 7 | bara\n",
      "Processing Record 2 of Set 7 | oudtshoorn\n",
      "Processing Record 3 of Set 7 | port blair\n",
      "Processing Record 4 of Set 7 | ketchikan\n",
      "Processing Record 5 of Set 7 | minab\n",
      "Processing Record 6 of Set 7 | nanortalik\n",
      "Processing Record 7 of Set 7 | moroni\n",
      "Processing Record 8 of Set 7 | maniitsoq\n",
      "Processing Record 9 of Set 7 | sibolga\n",
      "Processing Record 10 of Set 7 | lewiston\n",
      "Processing Record 11 of Set 7 | taoudenni\n",
      "Processing Record 12 of Set 7 | belmonte\n",
      "Processing Record 13 of Set 7 | hamilton\n",
      "Processing Record 14 of Set 7 | beihai\n",
      "Processing Record 15 of Set 7 | saint-augustin\n",
      "Processing Record 16 of Set 7 | mount pleasant\n",
      "Processing Record 17 of Set 7 | kahului\n",
      "Processing Record 18 of Set 7 | visby\n",
      "Processing Record 19 of Set 7 | awbari\n",
      "Processing Record 20 of Set 7 | marienburg\n",
      "Processing Record 21 of Set 7 | manggar\n",
      "Processing Record 22 of Set 7 | yaounde\n",
      "Processing Record 23 of Set 7 | maraa\n",
      "Processing Record 24 of Set 7 | samarai\n",
      "Processing Record 25 of Set 7 | coquimbo\n",
      "Processing Record 26 of Set 7 | tubuala\n",
      "Processing Record 27 of Set 7 | touros\n",
      "Processing Record 28 of Set 7 | longyearbyen\n",
      "Processing Record 29 of Set 7 | udgir\n",
      "Processing Record 30 of Set 7 | sobolevo\n",
      "Processing Record 31 of Set 7 | hay river\n",
      "Processing Record 32 of Set 7 | makarska\n",
      "Processing Record 33 of Set 7 | lac du bonnet\n",
      "Processing Record 34 of Set 7 | hasaki\n",
      "Processing Record 35 of Set 7 | cairns\n",
      "Processing Record 36 of Set 7 | qaqortoq\n",
      "Processing Record 37 of Set 7 | gawler\n",
      "Processing Record 38 of Set 7 | byron bay\n",
      "Processing Record 39 of Set 7 | hohhot\n",
      "Processing Record 40 of Set 7 | karaul\n",
      "City not found. Skipping...\n",
      "Processing Record 41 of Set 7 | sao bento do sul\n",
      "Processing Record 42 of Set 7 | sabalgarh\n",
      "Processing Record 43 of Set 7 | igarape-miri\n",
      "City not found. Skipping...\n",
      "Processing Record 44 of Set 7 | tautira\n",
      "Processing Record 45 of Set 7 | mayo\n",
      "Processing Record 46 of Set 7 | gorele\n",
      "Processing Record 47 of Set 7 | berlevag\n",
      "Processing Record 48 of Set 7 | tessalit\n",
      "Processing Record 49 of Set 7 | vytegra\n",
      "Processing Record 0 of Set 8 | kieta\n",
      "Processing Record 1 of Set 8 | lavrentiya\n",
      "Processing Record 2 of Set 8 | gaya\n",
      "Processing Record 3 of Set 8 | erzin\n",
      "Processing Record 4 of Set 8 | ust-nera\n",
      "Processing Record 5 of Set 8 | yagodnoye\n",
      "Processing Record 6 of Set 8 | hambantota\n",
      "Processing Record 7 of Set 8 | celestun\n",
      "Processing Record 8 of Set 8 | ganzhou\n",
      "Processing Record 9 of Set 8 | salalah\n",
      "Processing Record 10 of Set 8 | mount gambier\n",
      "Processing Record 11 of Set 8 | iqaluit\n",
      "Processing Record 12 of Set 8 | balikpapan\n",
      "Processing Record 13 of Set 8 | zanjan\n",
      "Processing Record 14 of Set 8 | satitoa\n",
      "City not found. Skipping...\n",
      "Processing Record 15 of Set 8 | cherskiy\n",
      "Processing Record 16 of Set 8 | candido mendes\n",
      "Processing Record 17 of Set 8 | togul\n",
      "Processing Record 18 of Set 8 | dubova\n",
      "Processing Record 19 of Set 8 | mahajanga\n",
      "Processing Record 20 of Set 8 | kazachinskoye\n",
      "Processing Record 21 of Set 8 | solhan\n",
      "Processing Record 22 of Set 8 | finnsnes\n",
      "Processing Record 23 of Set 8 | jutai\n"
     ]
    },
    {
     "name": "stdout",
     "output_type": "stream",
     "text": [
      "Processing Record 24 of Set 8 | kaduy\n",
      "Processing Record 25 of Set 8 | neiafu\n",
      "Processing Record 26 of Set 8 | zhanaozen\n",
      "Processing Record 27 of Set 8 | astoria\n",
      "Processing Record 28 of Set 8 | naze\n",
      "Processing Record 29 of Set 8 | cidreira\n",
      "Processing Record 30 of Set 8 | mizur\n",
      "Processing Record 31 of Set 8 | cabo san lucas\n",
      "Processing Record 32 of Set 8 | cockburn town\n",
      "Processing Record 33 of Set 8 | panuco\n",
      "Processing Record 34 of Set 8 | togitsu\n",
      "Processing Record 35 of Set 8 | inhambane\n",
      "Processing Record 36 of Set 8 | berbera\n",
      "Processing Record 37 of Set 8 | nowa sol\n",
      "Processing Record 38 of Set 8 | jahrom\n",
      "City not found. Skipping...\n",
      "Processing Record 39 of Set 8 | mrirt\n",
      "City not found. Skipping...\n",
      "Processing Record 40 of Set 8 | nipawin\n",
      "Processing Record 41 of Set 8 | jalu\n",
      "Processing Record 42 of Set 8 | gullhaug\n",
      "Processing Record 43 of Set 8 | aljezur\n",
      "Processing Record 44 of Set 8 | binzhou\n",
      "Processing Record 45 of Set 8 | grand-santi\n",
      "Processing Record 46 of Set 8 | alofi\n",
      "Processing Record 47 of Set 8 | kalevala\n",
      "Processing Record 48 of Set 8 | aklavik\n",
      "Processing Record 49 of Set 8 | ankang\n",
      "Processing Record 0 of Set 9 | sakaiminato\n",
      "Processing Record 1 of Set 9 | mitu\n",
      "Processing Record 2 of Set 9 | faanui\n",
      "Processing Record 3 of Set 9 | bonavista\n",
      "Processing Record 4 of Set 9 | lorengau\n",
      "Processing Record 5 of Set 9 | puerto escondido\n",
      "Processing Record 6 of Set 9 | banda aceh\n",
      "Processing Record 7 of Set 9 | itoman\n",
      "Processing Record 8 of Set 9 | kegums\n",
      "Processing Record 9 of Set 9 | impfondo\n",
      "Processing Record 10 of Set 9 | salinas\n",
      "Processing Record 11 of Set 9 | formosa do rio preto\n",
      "Processing Record 12 of Set 9 | beyneu\n",
      "Processing Record 13 of Set 9 | khovu-aksy\n",
      "Processing Record 14 of Set 9 | altay\n",
      "Processing Record 15 of Set 9 | barcelos\n",
      "Processing Record 16 of Set 9 | zanzibar\n",
      "Processing Record 17 of Set 9 | plettenberg bay\n",
      "Processing Record 18 of Set 9 | gao\n",
      "Processing Record 19 of Set 9 | gazanjyk\n",
      "Processing Record 20 of Set 9 | port lincoln\n",
      "Processing Record 21 of Set 9 | kidal\n",
      "Processing Record 22 of Set 9 | prainha\n",
      "Processing Record 23 of Set 9 | westport\n",
      "Processing Record 24 of Set 9 | endicott\n",
      "Processing Record 25 of Set 9 | antofagasta\n",
      "Processing Record 26 of Set 9 | sanandaj\n",
      "Processing Record 27 of Set 9 | husavik\n",
      "Processing Record 28 of Set 9 | koungheul\n",
      "Processing Record 29 of Set 9 | port hedland\n",
      "Processing Record 30 of Set 9 | bababe\n",
      "City not found. Skipping...\n",
      "Processing Record 31 of Set 9 | kulu\n",
      "Processing Record 32 of Set 9 | warqla\n",
      "City not found. Skipping...\n",
      "Processing Record 33 of Set 9 | samusu\n",
      "City not found. Skipping...\n",
      "Processing Record 34 of Set 9 | labutta\n",
      "City not found. Skipping...\n",
      "Processing Record 35 of Set 9 | mazatlan\n",
      "Processing Record 36 of Set 9 | changde\n",
      "Processing Record 37 of Set 9 | carndonagh\n",
      "Processing Record 38 of Set 9 | vestmannaeyjar\n",
      "Processing Record 39 of Set 9 | kumluca\n",
      "Processing Record 40 of Set 9 | almaznyy\n",
      "Processing Record 41 of Set 9 | parfino\n",
      "Processing Record 42 of Set 9 | zhuhai\n",
      "Processing Record 43 of Set 9 | dalian\n",
      "Processing Record 44 of Set 9 | port hardy\n",
      "Processing Record 45 of Set 9 | belyy yar\n",
      "Processing Record 46 of Set 9 | springbok\n",
      "Processing Record 47 of Set 9 | diffa\n",
      "Processing Record 48 of Set 9 | bodaybo\n",
      "Processing Record 49 of Set 9 | ayan\n",
      "Processing Record 0 of Set 10 | los llanos de aridane\n",
      "Processing Record 1 of Set 10 | ribita\n",
      "Processing Record 2 of Set 10 | iquitos\n",
      "Processing Record 3 of Set 10 | kaeo\n",
      "Processing Record 4 of Set 10 | evensk\n",
      "Processing Record 5 of Set 10 | namibe\n",
      "Processing Record 6 of Set 10 | zhongshu\n",
      "Processing Record 7 of Set 10 | sao miguel do araguaia\n",
      "Processing Record 8 of Set 10 | draguseni\n",
      "Processing Record 9 of Set 10 | jesup\n",
      "Processing Record 10 of Set 10 | uvalde\n",
      "Processing Record 11 of Set 10 | jacareacanga\n",
      "Processing Record 12 of Set 10 | omboue\n",
      "Processing Record 13 of Set 10 | mareeba\n",
      "Processing Record 14 of Set 10 | estrela\n",
      "Processing Record 15 of Set 10 | lata\n",
      "Processing Record 16 of Set 10 | artvin\n",
      "Processing Record 17 of Set 10 | longlac\n",
      "City not found. Skipping...\n",
      "Processing Record 18 of Set 10 | singkawang\n",
      "Processing Record 19 of Set 10 | ferme-neuve\n",
      "Processing Record 20 of Set 10 | san andres\n",
      "Processing Record 21 of Set 10 | port augusta\n",
      "Processing Record 22 of Set 10 | torrijos\n",
      "Processing Record 23 of Set 10 | ribeira grande\n",
      "Processing Record 24 of Set 10 | el balyana\n",
      "City not found. Skipping...\n",
      "Processing Record 25 of Set 10 | enumclaw\n",
      "Processing Record 26 of Set 10 | dalvik\n",
      "Processing Record 27 of Set 10 | fare\n",
      "Processing Record 28 of Set 10 | sao felix do xingu\n",
      "Processing Record 29 of Set 10 | quelimane\n",
      "Processing Record 30 of Set 10 | fukue\n",
      "Processing Record 31 of Set 10 | palabuhanratu\n",
      "City not found. Skipping...\n",
      "Processing Record 32 of Set 10 | masterton\n",
      "Processing Record 33 of Set 10 | west wendover\n",
      "Processing Record 34 of Set 10 | sao francisco de paula\n",
      "Processing Record 35 of Set 10 | hays\n",
      "Processing Record 36 of Set 10 | nouadhibou\n",
      "Processing Record 37 of Set 10 | nazca\n",
      "Processing Record 38 of Set 10 | hun\n",
      "Processing Record 39 of Set 10 | east london\n",
      "Processing Record 40 of Set 10 | ust-kuyga\n",
      "Processing Record 41 of Set 10 | paciran\n",
      "Processing Record 42 of Set 10 | amahai\n",
      "Processing Record 43 of Set 10 | la union\n",
      "Processing Record 44 of Set 10 | klyuchevskiy\n",
      "Processing Record 45 of Set 10 | bac lieu\n",
      "Processing Record 46 of Set 10 | morondava\n",
      "Processing Record 47 of Set 10 | grindavik\n",
      "Processing Record 48 of Set 10 | dedougou\n",
      "Processing Record 49 of Set 10 | raudeberg\n",
      "Processing Record 0 of Set 11 | haukipudas\n",
      "Processing Record 1 of Set 11 | ngaoundere\n",
      "Processing Record 2 of Set 11 | makat\n",
      "Processing Record 3 of Set 11 | slupsk\n",
      "Processing Record 4 of Set 11 | tabas\n",
      "Processing Record 5 of Set 11 | calawag\n",
      "Processing Record 6 of Set 11 | brooks\n",
      "Processing Record 7 of Set 11 | camalu\n",
      "Processing Record 8 of Set 11 | bagan\n",
      "Processing Record 9 of Set 11 | opuwo\n",
      "Processing Record 10 of Set 11 | hualmay\n",
      "Processing Record 11 of Set 11 | chegdomyn\n",
      "Processing Record 12 of Set 11 | biak\n",
      "Processing Record 13 of Set 11 | nioki\n",
      "Processing Record 14 of Set 11 | guymon\n",
      "Processing Record 15 of Set 11 | kushmurun\n",
      "Processing Record 16 of Set 11 | rungata\n",
      "City not found. Skipping...\n",
      "Processing Record 17 of Set 11 | lyman\n",
      "Processing Record 18 of Set 11 | lucapa\n",
      "Processing Record 19 of Set 11 | san juan\n",
      "Processing Record 20 of Set 11 | verkhnyaya sinyachikha\n",
      "Processing Record 21 of Set 11 | mangrol\n",
      "Processing Record 22 of Set 11 | warri\n",
      "Processing Record 23 of Set 11 | den helder\n",
      "Processing Record 24 of Set 11 | conakry\n",
      "Processing Record 25 of Set 11 | tangamandapio\n",
      "City not found. Skipping...\n",
      "Processing Record 26 of Set 11 | tiarei\n",
      "Processing Record 27 of Set 11 | caluquembe\n",
      "Processing Record 28 of Set 11 | teya\n",
      "Processing Record 29 of Set 11 | acari\n",
      "Processing Record 30 of Set 11 | cheremisinovo\n",
      "Processing Record 31 of Set 11 | havelock\n",
      "Processing Record 32 of Set 11 | san policarpo\n",
      "Processing Record 33 of Set 11 | ust-barguzin\n",
      "Processing Record 34 of Set 11 | chiang klang\n",
      "Processing Record 35 of Set 11 | isangel\n",
      "Processing Record 36 of Set 11 | pokhara\n",
      "Processing Record 37 of Set 11 | mehamn\n",
      "Processing Record 38 of Set 11 | sakakah\n",
      "Processing Record 39 of Set 11 | grand gaube\n",
      "Processing Record 40 of Set 11 | margate\n",
      "Processing Record 41 of Set 11 | turukhansk\n",
      "Processing Record 42 of Set 11 | acarau\n",
      "Processing Record 43 of Set 11 | derzhavinsk\n",
      "Processing Record 44 of Set 11 | buraydah\n",
      "Processing Record 45 of Set 11 | beyla\n",
      "Processing Record 46 of Set 11 | krasnoselkup\n",
      "Processing Record 47 of Set 11 | porirua\n",
      "Processing Record 48 of Set 11 | praxedis guerrero\n",
      "Processing Record 49 of Set 11 | sekoma\n",
      "Processing Record 0 of Set 12 | fujin\n",
      "Processing Record 1 of Set 12 | colmenar viejo\n",
      "Processing Record 2 of Set 12 | jarjis\n",
      "City not found. Skipping...\n",
      "Processing Record 3 of Set 12 | greenville\n",
      "Processing Record 4 of Set 12 | twentynine palms\n",
      "Processing Record 5 of Set 12 | balabac\n",
      "Processing Record 6 of Set 12 | andros town\n",
      "Processing Record 7 of Set 12 | vila\n",
      "Processing Record 8 of Set 12 | verkh-usugli\n",
      "Processing Record 9 of Set 12 | katangli\n",
      "Processing Record 10 of Set 12 | san patricio\n",
      "Processing Record 11 of Set 12 | gomel\n",
      "Processing Record 12 of Set 12 | sulangan\n"
     ]
    },
    {
     "name": "stdout",
     "output_type": "stream",
     "text": [
      "Processing Record 13 of Set 12 | whitehorse\n",
      "Processing Record 14 of Set 12 | payo\n",
      "Processing Record 15 of Set 12 | sulina\n",
      "Processing Record 16 of Set 12 | prieska\n",
      "Processing Record 17 of Set 12 | paamiut\n",
      "Processing Record 18 of Set 12 | kaina\n",
      "Processing Record 19 of Set 12 | uthal\n",
      "Processing Record 20 of Set 12 | russell\n",
      "Processing Record 21 of Set 12 | prince albert\n",
      "Processing Record 22 of Set 12 | alta floresta\n",
      "Processing Record 23 of Set 12 | kudahuvadhoo\n",
      "Processing Record 24 of Set 12 | newmarket\n",
      "Processing Record 25 of Set 12 | yatou\n",
      "Processing Record 26 of Set 12 | manzanillo\n",
      "Processing Record 27 of Set 12 | mogadishu\n",
      "Processing Record 28 of Set 12 | montepuez\n",
      "Processing Record 29 of Set 12 | kailua\n",
      "Processing Record 30 of Set 12 | kindu\n",
      "Processing Record 31 of Set 12 | nome\n",
      "Processing Record 32 of Set 12 | mananjary\n",
      "Processing Record 33 of Set 12 | sheopur\n",
      "Processing Record 34 of Set 12 | aban\n",
      "Processing Record 35 of Set 12 | matelandia\n",
      "Processing Record 36 of Set 12 | porto walter\n",
      "Processing Record 37 of Set 12 | nioro\n",
      "Processing Record 38 of Set 12 | tay ninh\n",
      "Processing Record 39 of Set 12 | utiroa\n",
      "City not found. Skipping...\n",
      "Processing Record 40 of Set 12 | broken hill\n",
      "Processing Record 41 of Set 12 | korla\n",
      "Processing Record 42 of Set 12 | tumpat\n",
      "Processing Record 43 of Set 12 | oum hadjer\n",
      "Processing Record 44 of Set 12 | camacha\n",
      "Processing Record 45 of Set 12 | surab\n",
      "Processing Record 46 of Set 12 | bangil\n",
      "Processing Record 47 of Set 12 | kushima\n",
      "Processing Record 48 of Set 12 | rocha\n",
      "Processing Record 49 of Set 12 | mandali\n",
      "Processing Record 0 of Set 13 | novomykolayivka\n",
      "Processing Record 1 of Set 13 | hami\n",
      "Processing Record 2 of Set 13 | pangnirtung\n",
      "Processing Record 3 of Set 13 | lasa\n",
      "Processing Record 4 of Set 13 | novobirilyussy\n",
      "-----------------------------\n",
      "Data Retrieval Complete\n",
      "-----------------------------\n"
     ]
    }
   ],
   "source": [
    "print(f\"Beginning Data Retrieval\")\n",
    "print(\"-----------------------------\")\n",
    "\n",
    "record_counter=0\n",
    "set_counter=1\n",
    "\n",
    "# List to hold city dictionaries\n",
    "city_list=[]\n",
    "# \n",
    "for city in cities:\n",
    "    if record_counter==50:\n",
    "        set_counter+=1\n",
    "        record_counter=0\n",
    "    # Build query URL & request temps in F\n",
    "    query_url = url + \"appid=\" + weather_api_key + \"&q=\" + city + \"&units=imperial\"\n",
    "    print(f\"Processing Record {record_counter} of Set {set_counter} | {city}\")\n",
    "    record_counter+=1\n",
    "    try: \n",
    "        city_response=requests.get(query_url)\n",
    "        city_data=city_response.json()\n",
    "        city_maxtemp=city_data[\"main\"][\"temp_max\"]\n",
    "        city_humidity=city_data[\"main\"][\"humidity\"]\n",
    "        city_cloudiness=city_data[\"clouds\"][\"all\"]\n",
    "        city_windspeed=city_data[\"wind\"][\"speed\"]\n",
    "        city_country=city_data[\"sys\"][\"country\"]\n",
    "        city_date=city_data[\"dt\"]\n",
    "        city_lat=city_data[\"coord\"][\"lat\"]\n",
    "        city_lon=city_data[\"coord\"][\"lon\"]\n",
    "        # Create dictionary to hold city data\n",
    "        weather_dict={\"City\": city,\n",
    "                      \"Lat\": city_lat,\n",
    "                      \"Lon\": city_lon,\n",
    "                      \"Max Temp\": city_maxtemp,\n",
    "                      \"Humidity\": city_humidity,\n",
    "                      \"Cloudiness\": city_cloudiness,\n",
    "                      \"Wind Speed\": city_windspeed,\n",
    "                      \"Country\": city_country,\n",
    "                      \"Date\": city_date}\n",
    "        city_list.append(weather_dict)\n",
    "    except:\n",
    "        print(\"City not found. Skipping...\")\n",
    "print(\"-----------------------------\")\n",
    "print(\"Data Retrieval Complete\")\n",
    "print(\"-----------------------------\")"
   ]
  },
  {
   "cell_type": "markdown",
   "metadata": {},
   "source": [
    "### Convert Raw Data to DataFrame\n",
    "* Export the city data into a .csv.\n",
    "* Display the DataFrame"
   ]
  },
  {
   "cell_type": "code",
   "execution_count": 8,
   "metadata": {},
   "outputs": [],
   "source": [
    "# Convert city_list to a new dataframe\n",
    "cities_weather_df=pd.DataFrame(city_list)\n",
    "\n",
    "# Save cities_weather_df to CSV \n",
    "cities_weather_df.to_csv(\"City Weather Data.csv\", encoding=\"utf-8\", index=False)"
   ]
  },
  {
   "cell_type": "code",
   "execution_count": 9,
   "metadata": {},
   "outputs": [
    {
     "data": {
      "text/html": [
       "<div>\n",
       "<style scoped>\n",
       "    .dataframe tbody tr th:only-of-type {\n",
       "        vertical-align: middle;\n",
       "    }\n",
       "\n",
       "    .dataframe tbody tr th {\n",
       "        vertical-align: top;\n",
       "    }\n",
       "\n",
       "    .dataframe thead th {\n",
       "        text-align: right;\n",
       "    }\n",
       "</style>\n",
       "<table border=\"1\" class=\"dataframe\">\n",
       "  <thead>\n",
       "    <tr style=\"text-align: right;\">\n",
       "      <th></th>\n",
       "      <th>City</th>\n",
       "      <th>Lat</th>\n",
       "      <th>Lon</th>\n",
       "      <th>Max Temp</th>\n",
       "      <th>Humidity</th>\n",
       "      <th>Cloudiness</th>\n",
       "      <th>Wind Speed</th>\n",
       "      <th>Country</th>\n",
       "      <th>Date</th>\n",
       "    </tr>\n",
       "  </thead>\n",
       "  <tbody>\n",
       "    <tr>\n",
       "      <th>0</th>\n",
       "      <td>hilo</td>\n",
       "      <td>19.73</td>\n",
       "      <td>-155.09</td>\n",
       "      <td>82.40</td>\n",
       "      <td>58</td>\n",
       "      <td>1</td>\n",
       "      <td>8.05</td>\n",
       "      <td>US</td>\n",
       "      <td>1596057323</td>\n",
       "    </tr>\n",
       "    <tr>\n",
       "      <th>1</th>\n",
       "      <td>coihaique</td>\n",
       "      <td>-45.58</td>\n",
       "      <td>-72.07</td>\n",
       "      <td>39.20</td>\n",
       "      <td>69</td>\n",
       "      <td>99</td>\n",
       "      <td>3.51</td>\n",
       "      <td>CL</td>\n",
       "      <td>1596057344</td>\n",
       "    </tr>\n",
       "    <tr>\n",
       "      <th>2</th>\n",
       "      <td>vaini</td>\n",
       "      <td>-21.20</td>\n",
       "      <td>-175.20</td>\n",
       "      <td>69.80</td>\n",
       "      <td>77</td>\n",
       "      <td>40</td>\n",
       "      <td>16.11</td>\n",
       "      <td>TO</td>\n",
       "      <td>1596057327</td>\n",
       "    </tr>\n",
       "    <tr>\n",
       "      <th>3</th>\n",
       "      <td>bambous virieux</td>\n",
       "      <td>-20.34</td>\n",
       "      <td>57.76</td>\n",
       "      <td>72.00</td>\n",
       "      <td>83</td>\n",
       "      <td>40</td>\n",
       "      <td>10.29</td>\n",
       "      <td>MU</td>\n",
       "      <td>1596057387</td>\n",
       "    </tr>\n",
       "    <tr>\n",
       "      <th>4</th>\n",
       "      <td>richards bay</td>\n",
       "      <td>-28.78</td>\n",
       "      <td>32.04</td>\n",
       "      <td>65.44</td>\n",
       "      <td>81</td>\n",
       "      <td>77</td>\n",
       "      <td>5.10</td>\n",
       "      <td>ZA</td>\n",
       "      <td>1596057449</td>\n",
       "    </tr>\n",
       "  </tbody>\n",
       "</table>\n",
       "</div>"
      ],
      "text/plain": [
       "              City    Lat     Lon  Max Temp  Humidity  Cloudiness  Wind Speed  \\\n",
       "0             hilo  19.73 -155.09     82.40        58           1        8.05   \n",
       "1        coihaique -45.58  -72.07     39.20        69          99        3.51   \n",
       "2            vaini -21.20 -175.20     69.80        77          40       16.11   \n",
       "3  bambous virieux -20.34   57.76     72.00        83          40       10.29   \n",
       "4     richards bay -28.78   32.04     65.44        81          77        5.10   \n",
       "\n",
       "  Country        Date  \n",
       "0      US  1596057323  \n",
       "1      CL  1596057344  \n",
       "2      TO  1596057327  \n",
       "3      MU  1596057387  \n",
       "4      ZA  1596057449  "
      ]
     },
     "execution_count": 9,
     "metadata": {},
     "output_type": "execute_result"
    }
   ],
   "source": [
    "cities_weather_df.head()"
   ]
  },
  {
   "cell_type": "code",
   "execution_count": null,
   "metadata": {},
   "outputs": [],
   "source": []
  },
  {
   "cell_type": "markdown",
   "metadata": {},
   "source": [
    "## Inspect the data and remove the cities where the humidity > 100%.\n",
    "----\n",
    "Skip this step if there are no cities that have humidity > 100%. "
   ]
  },
  {
   "cell_type": "code",
   "execution_count": 10,
   "metadata": {},
   "outputs": [
    {
     "data": {
      "text/html": [
       "<div>\n",
       "<style scoped>\n",
       "    .dataframe tbody tr th:only-of-type {\n",
       "        vertical-align: middle;\n",
       "    }\n",
       "\n",
       "    .dataframe tbody tr th {\n",
       "        vertical-align: top;\n",
       "    }\n",
       "\n",
       "    .dataframe thead th {\n",
       "        text-align: right;\n",
       "    }\n",
       "</style>\n",
       "<table border=\"1\" class=\"dataframe\">\n",
       "  <thead>\n",
       "    <tr style=\"text-align: right;\">\n",
       "      <th></th>\n",
       "      <th>City</th>\n",
       "      <th>Lat</th>\n",
       "      <th>Lon</th>\n",
       "      <th>Max Temp</th>\n",
       "      <th>Humidity</th>\n",
       "      <th>Cloudiness</th>\n",
       "      <th>Wind Speed</th>\n",
       "      <th>Country</th>\n",
       "      <th>Date</th>\n",
       "    </tr>\n",
       "  </thead>\n",
       "  <tbody>\n",
       "    <tr>\n",
       "      <th>428</th>\n",
       "      <td>port augusta</td>\n",
       "      <td>-32.50</td>\n",
       "      <td>137.77</td>\n",
       "      <td>44.60</td>\n",
       "      <td>100</td>\n",
       "      <td>75</td>\n",
       "      <td>5.82</td>\n",
       "      <td>AU</td>\n",
       "      <td>1596057472</td>\n",
       "    </tr>\n",
       "    <tr>\n",
       "      <th>287</th>\n",
       "      <td>marienburg</td>\n",
       "      <td>54.04</td>\n",
       "      <td>19.03</td>\n",
       "      <td>61.00</td>\n",
       "      <td>100</td>\n",
       "      <td>1</td>\n",
       "      <td>8.41</td>\n",
       "      <td>PL</td>\n",
       "      <td>1596057614</td>\n",
       "    </tr>\n",
       "    <tr>\n",
       "      <th>254</th>\n",
       "      <td>galesong</td>\n",
       "      <td>-5.32</td>\n",
       "      <td>119.37</td>\n",
       "      <td>69.80</td>\n",
       "      <td>100</td>\n",
       "      <td>20</td>\n",
       "      <td>1.12</td>\n",
       "      <td>ID</td>\n",
       "      <td>1596057603</td>\n",
       "    </tr>\n",
       "    <tr>\n",
       "      <th>324</th>\n",
       "      <td>salalah</td>\n",
       "      <td>17.02</td>\n",
       "      <td>54.09</td>\n",
       "      <td>80.60</td>\n",
       "      <td>100</td>\n",
       "      <td>75</td>\n",
       "      <td>5.82</td>\n",
       "      <td>OM</td>\n",
       "      <td>1596057167</td>\n",
       "    </tr>\n",
       "    <tr>\n",
       "      <th>80</th>\n",
       "      <td>cape town</td>\n",
       "      <td>-33.93</td>\n",
       "      <td>18.42</td>\n",
       "      <td>57.99</td>\n",
       "      <td>100</td>\n",
       "      <td>75</td>\n",
       "      <td>4.70</td>\n",
       "      <td>ZA</td>\n",
       "      <td>1596057321</td>\n",
       "    </tr>\n",
       "  </tbody>\n",
       "</table>\n",
       "</div>"
      ],
      "text/plain": [
       "             City    Lat     Lon  Max Temp  Humidity  Cloudiness  Wind Speed  \\\n",
       "428  port augusta -32.50  137.77     44.60       100          75        5.82   \n",
       "287    marienburg  54.04   19.03     61.00       100           1        8.41   \n",
       "254      galesong  -5.32  119.37     69.80       100          20        1.12   \n",
       "324       salalah  17.02   54.09     80.60       100          75        5.82   \n",
       "80      cape town -33.93   18.42     57.99       100          75        4.70   \n",
       "\n",
       "    Country        Date  \n",
       "428      AU  1596057472  \n",
       "287      PL  1596057614  \n",
       "254      ID  1596057603  \n",
       "324      OM  1596057167  \n",
       "80       ZA  1596057321  "
      ]
     },
     "execution_count": 10,
     "metadata": {},
     "output_type": "execute_result"
    }
   ],
   "source": [
    "# Sort by humidity to find if there are values >100%\n",
    "cities_lowhumidity=cities_weather_df.sort_values(by=[\"Humidity\"], ascending=False)\n",
    "cities_lowhumidity.head()"
   ]
  },
  {
   "cell_type": "code",
   "execution_count": 11,
   "metadata": {},
   "outputs": [],
   "source": [
    "# # Drop cities with humidity >100%\n",
    "# cities_highhumidity=cities_lowhumidity.loc[cities_lowhumidity[\"Humidity\"]>100]\n",
    "\n",
    "# cities_highhumidity.head()"
   ]
  },
  {
   "cell_type": "code",
   "execution_count": null,
   "metadata": {},
   "outputs": [],
   "source": []
  },
  {
   "cell_type": "code",
   "execution_count": 12,
   "metadata": {},
   "outputs": [],
   "source": [
    "#  Get the indices of cities that have humidity over 100%.\n"
   ]
  },
  {
   "cell_type": "code",
   "execution_count": 13,
   "metadata": {},
   "outputs": [],
   "source": [
    "# Make a new DataFrame equal to the city data to drop all humidity outliers by index.\n",
    "# Passing \"inplace=False\" will make a copy of the city_data DataFrame, which we call \"clean_city_data\".\n"
   ]
  },
  {
   "cell_type": "code",
   "execution_count": 14,
   "metadata": {},
   "outputs": [],
   "source": [
    "# Extract relevant fields from the data frame\n",
    "\n",
    "\n",
    "# Export the City_Data into a csv\n"
   ]
  },
  {
   "cell_type": "markdown",
   "metadata": {},
   "source": [
    "## Plotting the Data\n",
    "* Use proper labeling of the plots using plot titles (including date of analysis) and axes labels.\n",
    "* Save the plotted figures as .pngs."
   ]
  },
  {
   "cell_type": "markdown",
   "metadata": {},
   "source": [
    "## Latitude vs. Temperature Plot"
   ]
  },
  {
   "cell_type": "code",
   "execution_count": 15,
   "metadata": {},
   "outputs": [
    {
     "data": {
      "image/png": "[encoded data removed]",
      "text/plain": [
       "<Figure size 432x288 with 1 Axes>"
      ]
     },
     "metadata": {
      "needs_background": "light"
     },
     "output_type": "display_data"
    }
   ],
   "source": [
    "# Build latitude vs max temp scatter plot\n",
    "plt.scatter(cities_weather_df[\"Lat\"], cities_weather_df[\"Max Temp\"], marker=\"o\", edgecolors=\"black\", c=\"blue\")\n",
    "\n",
    "# Incorporate the other graph properties\n",
    "plt.title(\"City Latitude vs Max Temperature (07/27/20)\")\n",
    "plt.ylabel(\"Max Temperature (F)\")\n",
    "plt.xlabel(\"Latitude\")\n",
    "plt.grid(True)\n",
    "\n",
    "# Show plot\n",
    "plt.show()"
   ]
  },
  {
   "cell_type": "markdown",
   "metadata": {},
   "source": [
    "## Latitude vs. Humidity Plot"
   ]
  },
  {
   "cell_type": "code",
   "execution_count": 16,
   "metadata": {},
   "outputs": [
    {
     "data": {
      "image/png": "[encoded data removed]",
      "text/plain": [
       "<Figure size 432x288 with 1 Axes>"
      ]
     },
     "metadata": {
      "needs_background": "light"
     },
     "output_type": "display_data"
    }
   ],
   "source": [
    "# Build latitude vs humidity scatter plot\n",
    "plt.scatter(cities_weather_df[\"Lat\"], cities_weather_df[\"Humidity\"], marker=\"o\", edgecolors=\"black\", c=\"blue\")\n",
    "\n",
    "# Incorporate the other graph properties\n",
    "plt.title(\"City Latitude vs Humidity (07/27/20)\")\n",
    "plt.ylabel(\"Humidity (%)\")\n",
    "plt.xlabel(\"Latitude\")\n",
    "plt.grid(True)\n",
    "\n",
    "# Show plot\n",
    "plt.show()"
   ]
  },
  {
   "cell_type": "markdown",
   "metadata": {},
   "source": [
    "## Latitude vs. Cloudiness Plot"
   ]
  },
  {
   "cell_type": "code",
   "execution_count": 17,
   "metadata": {},
   "outputs": [
    {
     "data": {
      "image/png": "[encoded data removed]",
      "text/plain": [
       "<Figure size 432x288 with 1 Axes>"
      ]
     },
     "metadata": {
      "needs_background": "light"
     },
     "output_type": "display_data"
    }
   ],
   "source": [
    "# Build latitude vs cloudiness scatter plot\n",
    "plt.scatter(cities_weather_df[\"Lat\"], cities_weather_df[\"Cloudiness\"], marker=\"o\", edgecolors=\"black\", c=\"blue\")\n",
    "\n",
    "# Incorporate the other graph properties\n",
    "plt.title(\"City Latitude vs Cloudiness (07/27/20)\")\n",
    "plt.ylabel(\"Cloudiness (%)\")\n",
    "plt.xlabel(\"Latitude\")\n",
    "plt.grid(True)\n",
    "\n",
    "# Show plot\n",
    "plt.show()"
   ]
  },
  {
   "cell_type": "markdown",
   "metadata": {},
   "source": [
    "## Latitude vs. Wind Speed Plot"
   ]
  },
  {
   "cell_type": "code",
   "execution_count": 18,
   "metadata": {},
   "outputs": [
    {
     "data": {
      "image/png": "[encoded data removed]",
      "text/plain": [
       "<Figure size 432x288 with 1 Axes>"
      ]
     },
     "metadata": {
      "needs_background": "light"
     },
     "output_type": "display_data"
    }
   ],
   "source": [
    "# Build latitude vs wind speed scatter plot\n",
    "plt.scatter(cities_weather_df[\"Lat\"], cities_weather_df[\"Wind Speed\"], marker=\"o\", edgecolors=\"black\", c=\"blue\")\n",
    "\n",
    "# Incorporate the other graph properties\n",
    "plt.title(\"City Latitude vs Wind Speed (07/27/20)\")\n",
    "plt.ylabel(\"Wind Speed (mph)\")\n",
    "plt.xlabel(\"Latitude\")\n",
    "plt.grid(True)\n",
    "\n",
    "# Show plot\n",
    "plt.show()"
   ]
  },
  {
   "cell_type": "markdown",
   "metadata": {},
   "source": [
    "## Linear Regression"
   ]
  },
  {
   "cell_type": "code",
   "execution_count": 19,
   "metadata": {},
   "outputs": [],
   "source": [
    "# OPTIONAL: Create a function to create Linear Regression plots"
   ]
  },
  {
   "cell_type": "code",
   "execution_count": 20,
   "metadata": {},
   "outputs": [
    {
     "data": {
      "text/html": [
       "<div>\n",
       "<style scoped>\n",
       "    .dataframe tbody tr th:only-of-type {\n",
       "        vertical-align: middle;\n",
       "    }\n",
       "\n",
       "    .dataframe tbody tr th {\n",
       "        vertical-align: top;\n",
       "    }\n",
       "\n",
       "    .dataframe thead th {\n",
       "        text-align: right;\n",
       "    }\n",
       "</style>\n",
       "<table border=\"1\" class=\"dataframe\">\n",
       "  <thead>\n",
       "    <tr style=\"text-align: right;\">\n",
       "      <th></th>\n",
       "      <th>City</th>\n",
       "      <th>Lat</th>\n",
       "      <th>Lon</th>\n",
       "      <th>Max Temp</th>\n",
       "      <th>Humidity</th>\n",
       "      <th>Cloudiness</th>\n",
       "      <th>Wind Speed</th>\n",
       "      <th>Country</th>\n",
       "      <th>Date</th>\n",
       "    </tr>\n",
       "  </thead>\n",
       "  <tbody>\n",
       "    <tr>\n",
       "      <th>0</th>\n",
       "      <td>hilo</td>\n",
       "      <td>19.73</td>\n",
       "      <td>-155.09</td>\n",
       "      <td>82.40</td>\n",
       "      <td>58</td>\n",
       "      <td>1</td>\n",
       "      <td>8.05</td>\n",
       "      <td>US</td>\n",
       "      <td>1596057323</td>\n",
       "    </tr>\n",
       "    <tr>\n",
       "      <th>7</th>\n",
       "      <td>jamestown</td>\n",
       "      <td>42.10</td>\n",
       "      <td>-79.24</td>\n",
       "      <td>75.99</td>\n",
       "      <td>78</td>\n",
       "      <td>90</td>\n",
       "      <td>8.05</td>\n",
       "      <td>US</td>\n",
       "      <td>1596057321</td>\n",
       "    </tr>\n",
       "    <tr>\n",
       "      <th>8</th>\n",
       "      <td>srednekolymsk</td>\n",
       "      <td>67.45</td>\n",
       "      <td>153.68</td>\n",
       "      <td>50.38</td>\n",
       "      <td>64</td>\n",
       "      <td>92</td>\n",
       "      <td>10.27</td>\n",
       "      <td>RU</td>\n",
       "      <td>1596057540</td>\n",
       "    </tr>\n",
       "    <tr>\n",
       "      <th>12</th>\n",
       "      <td>clyde river</td>\n",
       "      <td>70.47</td>\n",
       "      <td>-68.59</td>\n",
       "      <td>41.00</td>\n",
       "      <td>93</td>\n",
       "      <td>75</td>\n",
       "      <td>11.41</td>\n",
       "      <td>CA</td>\n",
       "      <td>1596057328</td>\n",
       "    </tr>\n",
       "    <tr>\n",
       "      <th>18</th>\n",
       "      <td>atar</td>\n",
       "      <td>20.52</td>\n",
       "      <td>-13.05</td>\n",
       "      <td>95.20</td>\n",
       "      <td>26</td>\n",
       "      <td>0</td>\n",
       "      <td>11.07</td>\n",
       "      <td>MR</td>\n",
       "      <td>1596057372</td>\n",
       "    </tr>\n",
       "  </tbody>\n",
       "</table>\n",
       "</div>"
      ],
      "text/plain": [
       "             City    Lat     Lon  Max Temp  Humidity  Cloudiness  Wind Speed  \\\n",
       "0            hilo  19.73 -155.09     82.40        58           1        8.05   \n",
       "7       jamestown  42.10  -79.24     75.99        78          90        8.05   \n",
       "8   srednekolymsk  67.45  153.68     50.38        64          92       10.27   \n",
       "12    clyde river  70.47  -68.59     41.00        93          75       11.41   \n",
       "18           atar  20.52  -13.05     95.20        26           0       11.07   \n",
       "\n",
       "   Country        Date  \n",
       "0       US  1596057323  \n",
       "7       US  1596057321  \n",
       "8       RU  1596057540  \n",
       "12      CA  1596057328  \n",
       "18      MR  1596057372  "
      ]
     },
     "execution_count": 20,
     "metadata": {},
     "output_type": "execute_result"
    }
   ],
   "source": [
    "# Create Northern Hemisphere DataFrame\n",
    "cities_northern_hem=cities_weather_df.loc[cities_weather_df[\"Lat\"]>0]\n",
    "cities_northern_hem.head()"
   ]
  },
  {
   "cell_type": "code",
   "execution_count": 21,
   "metadata": {},
   "outputs": [
    {
     "data": {
      "text/html": [
       "<div>\n",
       "<style scoped>\n",
       "    .dataframe tbody tr th:only-of-type {\n",
       "        vertical-align: middle;\n",
       "    }\n",
       "\n",
       "    .dataframe tbody tr th {\n",
       "        vertical-align: top;\n",
       "    }\n",
       "\n",
       "    .dataframe thead th {\n",
       "        text-align: right;\n",
       "    }\n",
       "</style>\n",
       "<table border=\"1\" class=\"dataframe\">\n",
       "  <thead>\n",
       "    <tr style=\"text-align: right;\">\n",
       "      <th></th>\n",
       "      <th>City</th>\n",
       "      <th>Lat</th>\n",
       "      <th>Lon</th>\n",
       "      <th>Max Temp</th>\n",
       "      <th>Humidity</th>\n",
       "      <th>Cloudiness</th>\n",
       "      <th>Wind Speed</th>\n",
       "      <th>Country</th>\n",
       "      <th>Date</th>\n",
       "    </tr>\n",
       "  </thead>\n",
       "  <tbody>\n",
       "    <tr>\n",
       "      <th>1</th>\n",
       "      <td>coihaique</td>\n",
       "      <td>-45.58</td>\n",
       "      <td>-72.07</td>\n",
       "      <td>39.20</td>\n",
       "      <td>69</td>\n",
       "      <td>99</td>\n",
       "      <td>3.51</td>\n",
       "      <td>CL</td>\n",
       "      <td>1596057344</td>\n",
       "    </tr>\n",
       "    <tr>\n",
       "      <th>2</th>\n",
       "      <td>vaini</td>\n",
       "      <td>-21.20</td>\n",
       "      <td>-175.20</td>\n",
       "      <td>69.80</td>\n",
       "      <td>77</td>\n",
       "      <td>40</td>\n",
       "      <td>16.11</td>\n",
       "      <td>TO</td>\n",
       "      <td>1596057327</td>\n",
       "    </tr>\n",
       "    <tr>\n",
       "      <th>3</th>\n",
       "      <td>bambous virieux</td>\n",
       "      <td>-20.34</td>\n",
       "      <td>57.76</td>\n",
       "      <td>72.00</td>\n",
       "      <td>83</td>\n",
       "      <td>40</td>\n",
       "      <td>10.29</td>\n",
       "      <td>MU</td>\n",
       "      <td>1596057387</td>\n",
       "    </tr>\n",
       "    <tr>\n",
       "      <th>4</th>\n",
       "      <td>richards bay</td>\n",
       "      <td>-28.78</td>\n",
       "      <td>32.04</td>\n",
       "      <td>65.44</td>\n",
       "      <td>81</td>\n",
       "      <td>77</td>\n",
       "      <td>5.10</td>\n",
       "      <td>ZA</td>\n",
       "      <td>1596057449</td>\n",
       "    </tr>\n",
       "    <tr>\n",
       "      <th>5</th>\n",
       "      <td>souillac</td>\n",
       "      <td>-20.52</td>\n",
       "      <td>57.52</td>\n",
       "      <td>71.60</td>\n",
       "      <td>83</td>\n",
       "      <td>40</td>\n",
       "      <td>10.29</td>\n",
       "      <td>MU</td>\n",
       "      <td>1596057363</td>\n",
       "    </tr>\n",
       "  </tbody>\n",
       "</table>\n",
       "</div>"
      ],
      "text/plain": [
       "              City    Lat     Lon  Max Temp  Humidity  Cloudiness  Wind Speed  \\\n",
       "1        coihaique -45.58  -72.07     39.20        69          99        3.51   \n",
       "2            vaini -21.20 -175.20     69.80        77          40       16.11   \n",
       "3  bambous virieux -20.34   57.76     72.00        83          40       10.29   \n",
       "4     richards bay -28.78   32.04     65.44        81          77        5.10   \n",
       "5         souillac -20.52   57.52     71.60        83          40       10.29   \n",
       "\n",
       "  Country        Date  \n",
       "1      CL  1596057344  \n",
       "2      TO  1596057327  \n",
       "3      MU  1596057387  \n",
       "4      ZA  1596057449  \n",
       "5      MU  1596057363  "
      ]
     },
     "execution_count": 21,
     "metadata": {},
     "output_type": "execute_result"
    }
   ],
   "source": [
    "# Create Southern Hemisphere DataFrame\n",
    "cities_southern_hem=cities_weather_df.loc[cities_weather_df[\"Lat\"]<0]\n",
    "cities_southern_hem.head()"
   ]
  },
  {
   "cell_type": "markdown",
   "metadata": {},
   "source": [
    "####  Northern Hemisphere - Max Temp vs. Latitude Linear Regression"
   ]
  },
  {
   "cell_type": "code",
   "execution_count": 22,
   "metadata": {},
   "outputs": [
    {
     "name": "stdout",
     "output_type": "stream",
     "text": [
      "The r-squared is: 0.48287216031842367\n"
     ]
    },
    {
     "data": {
      "image/png": "[encoded data removed]",
      "text/plain": [
       "<Figure size 432x288 with 1 Axes>"
      ]
     },
     "metadata": {
      "needs_background": "light"
     },
     "output_type": "display_data"
    }
   ],
   "source": [
    "# Calculate the linear regression\n",
    "x_values=cities_northern_hem[\"Lat\"]\n",
    "y_values=cities_northern_hem[\"Max Temp\"]\n",
    "\n",
    "(slope, intercept, rvalue, pvalue, stderr) = linregress(x_values, y_values)\n",
    "regress_values = x_values * slope + intercept\n",
    "\n",
    "line_eq = \"y = \" + str(round(slope,2)) + \"x + \" + str(round(intercept,2))\n",
    "\n",
    "plt.scatter(x_values, y_values)\n",
    "plt.plot(x_values,regress_values,\"r-\")\n",
    "plt.annotate(line_eq,(6,10),fontsize=15,color=\"red\")\n",
    "plt.xlabel(\"Latitude\")\n",
    "plt.ylabel(\"Max Temp\")\n",
    "\n",
    "# Save the figure\n",
    "plt.savefig(\"NorthernHem Max Temp v Lat.png\")\n",
    "\n",
    "print(f\"The r-squared is: {rvalue**2}\")\n",
    "plt.show()"
   ]
  },
  {
   "cell_type": "markdown",
   "metadata": {},
   "source": [
    "####  Southern Hemisphere - Max Temp vs. Latitude Linear Regression"
   ]
  },
  {
   "cell_type": "code",
   "execution_count": 23,
   "metadata": {},
   "outputs": [
    {
     "name": "stdout",
     "output_type": "stream",
     "text": [
      "The r-squared is: 0.6576197246682466\n"
     ]
    },
    {
     "data": {
      "image/png": "[encoded data removed]",
      "text/plain": [
       "<Figure size 432x288 with 1 Axes>"
      ]
     },
     "metadata": {
      "needs_background": "light"
     },
     "output_type": "display_data"
    }
   ],
   "source": [
    "# Calculate the linear regression\n",
    "x_values=cities_southern_hem[\"Lat\"]\n",
    "y_values=cities_southern_hem[\"Max Temp\"]\n",
    "\n",
    "(slope, intercept, rvalue, pvalue, stderr) = linregress(x_values, y_values)\n",
    "regress_values = x_values * slope + intercept\n",
    "\n",
    "line_eq = \"y = \" + str(round(slope,2)) + \"x + \" + str(round(intercept,2))\n",
    "\n",
    "plt.scatter(x_values, y_values)\n",
    "plt.plot(x_values,regress_values,\"r-\")\n",
    "plt.annotate(line_eq,(6,10),fontsize=15,color=\"red\")\n",
    "plt.xlabel(\"Latitude\")\n",
    "plt.ylabel(\"Max Temp\")\n",
    "\n",
    "# Save the figure\n",
    "plt.savefig(\"SouthernHem Max Temp v Lat.png\")\n",
    "\n",
    "print(f\"The r-squared is: {rvalue**2}\")\n",
    "plt.show()"
   ]
  },
  {
   "cell_type": "markdown",
   "metadata": {},
   "source": [
    "####  Northern Hemisphere - Humidity (%) vs. Latitude Linear Regression"
   ]
  },
  {
   "cell_type": "code",
   "execution_count": 24,
   "metadata": {},
   "outputs": [
    {
     "name": "stdout",
     "output_type": "stream",
     "text": [
      "The r-squared is: 0.004829192238041509\n"
     ]
    },
    {
     "data": {
      "image/png": "[encoded data removed]",
      "text/plain": [
       "<Figure size 432x288 with 1 Axes>"
      ]
     },
     "metadata": {
      "needs_background": "light"
     },
     "output_type": "display_data"
    }
   ],
   "source": [
    "# Calculate the linear regression\n",
    "x_values=cities_northern_hem[\"Lat\"]\n",
    "y_values=cities_northern_hem[\"Humidity\"]\n",
    "\n",
    "(slope, intercept, rvalue, pvalue, stderr) = linregress(x_values, y_values)\n",
    "regress_values = x_values * slope + intercept\n",
    "\n",
    "line_eq = \"y = \" + str(round(slope,2)) + \"x + \" + str(round(intercept,2))\n",
    "\n",
    "plt.scatter(x_values, y_values)\n",
    "plt.plot(x_values,regress_values,\"r-\")\n",
    "plt.annotate(line_eq,(6,10),fontsize=15,color=\"red\")\n",
    "plt.xlabel(\"Latitude\")\n",
    "plt.ylabel(\"Humidity\")\n",
    "\n",
    "# Save the figure\n",
    "plt.savefig(\"NorthernHem Humidity v Lat.png\")\n",
    "\n",
    "print(f\"The r-squared is: {rvalue**2}\")\n",
    "plt.show()"
   ]
  },
  {
   "cell_type": "markdown",
   "metadata": {},
   "source": [
    "####  Southern Hemisphere - Humidity (%) vs. Latitude Linear Regression"
   ]
  },
  {
   "cell_type": "code",
   "execution_count": 25,
   "metadata": {},
   "outputs": [
    {
     "name": "stdout",
     "output_type": "stream",
     "text": [
      "The r-squared is: 0.012777855746262529\n"
     ]
    },
    {
     "data": {
      "image/png": "[encoded data removed]",
      "text/plain": [
       "<Figure size 432x288 with 1 Axes>"
      ]
     },
     "metadata": {
      "needs_background": "light"
     },
     "output_type": "display_data"
    }
   ],
   "source": [
    "# Calculate the linear regression\n",
    "x_values=cities_southern_hem[\"Lat\"]\n",
    "y_values=cities_southern_hem[\"Humidity\"]\n",
    "\n",
    "(slope, intercept, rvalue, pvalue, stderr) = linregress(x_values, y_values)\n",
    "regress_values = x_values * slope + intercept\n",
    "\n",
    "line_eq = \"y = \" + str(round(slope,2)) + \"x + \" + str(round(intercept,2))\n",
    "\n",
    "plt.scatter(x_values, y_values)\n",
    "plt.plot(x_values,regress_values,\"r-\")\n",
    "plt.annotate(line_eq,(6,10),fontsize=15,color=\"red\")\n",
    "plt.xlabel(\"Latitude\")\n",
    "plt.ylabel(\"Humidity\")\n",
    "\n",
    "# Save the figure\n",
    "plt.savefig(\"SouthernHem Humidity v Lat.png\")\n",
    "\n",
    "print(f\"The r-squared is: {rvalue**2}\")\n",
    "plt.show()"
   ]
  },
  {
   "cell_type": "markdown",
   "metadata": {},
   "source": [
    "####  Northern Hemisphere - Cloudiness (%) vs. Latitude Linear Regression"
   ]
  },
  {
   "cell_type": "code",
   "execution_count": 26,
   "metadata": {},
   "outputs": [
    {
     "name": "stdout",
     "output_type": "stream",
     "text": [
      "The r-squared is: 0.006779100567918131\n"
     ]
    },
    {
     "data": {
      "image/png": "[encoded data removed]",
      "text/plain": [
       "<Figure size 432x288 with 1 Axes>"
      ]
     },
     "metadata": {
      "needs_background": "light"
     },
     "output_type": "display_data"
    }
   ],
   "source": [
    "# Calculate the linear regression\n",
    "x_values=cities_northern_hem[\"Lat\"]\n",
    "y_values=cities_northern_hem[\"Cloudiness\"]\n",
    "\n",
    "(slope, intercept, rvalue, pvalue, stderr) = linregress(x_values, y_values)\n",
    "regress_values = x_values * slope + intercept\n",
    "\n",
    "line_eq = \"y = \" + str(round(slope,2)) + \"x + \" + str(round(intercept,2))\n",
    "\n",
    "plt.scatter(x_values, y_values)\n",
    "plt.plot(x_values,regress_values,\"r-\")\n",
    "plt.annotate(line_eq,(6,10),fontsize=15,color=\"red\")\n",
    "plt.xlabel(\"Latitude\")\n",
    "plt.ylabel(\"Cloudiness\")\n",
    "\n",
    "# Save the figure\n",
    "plt.savefig(\"NorthernHem Cloudiness v Lat.png\")\n",
    "\n",
    "print(f\"The r-squared is: {rvalue**2}\")\n",
    "plt.show()"
   ]
  },
  {
   "cell_type": "markdown",
   "metadata": {},
   "source": [
    "####  Southern Hemisphere - Cloudiness (%) vs. Latitude Linear Regression"
   ]
  },
  {
   "cell_type": "code",
   "execution_count": 27,
   "metadata": {},
   "outputs": [
    {
     "name": "stdout",
     "output_type": "stream",
     "text": [
      "The r-squared is: 0.0018297238239394248\n"
     ]
    },
    {
     "data": {
      "image/png": "[encoded data removed]",
      "text/plain": [
       "<Figure size 432x288 with 1 Axes>"
      ]
     },
     "metadata": {
      "needs_background": "light"
     },
     "output_type": "display_data"
    }
   ],
   "source": [
    "# Calculate the linear regression\n",
    "x_values=cities_southern_hem[\"Lat\"]\n",
    "y_values=cities_southern_hem[\"Cloudiness\"]\n",
    "\n",
    "(slope, intercept, rvalue, pvalue, stderr) = linregress(x_values, y_values)\n",
    "regress_values = x_values * slope + intercept\n",
    "\n",
    "line_eq = \"y = \" + str(round(slope,2)) + \"x + \" + str(round(intercept,2))\n",
    "\n",
    "plt.scatter(x_values, y_values)\n",
    "plt.plot(x_values,regress_values,\"r-\")\n",
    "plt.annotate(line_eq,(6,10),fontsize=15,color=\"red\")\n",
    "plt.xlabel(\"Latitude\")\n",
    "plt.ylabel(\"Cloudiness\")\n",
    "\n",
    "# Save the figure\n",
    "plt.savefig(\"SouthernHem Cloudiness v Lat.png\")\n",
    "\n",
    "print(f\"The r-squared is: {rvalue**2}\")\n",
    "plt.show()"
   ]
  },
  {
   "cell_type": "markdown",
   "metadata": {},
   "source": [
    "####  Northern Hemisphere - Wind Speed (mph) vs. Latitude Linear Regression"
   ]
  },
  {
   "cell_type": "code",
   "execution_count": 28,
   "metadata": {},
   "outputs": [
    {
     "name": "stdout",
     "output_type": "stream",
     "text": [
      "The r-squared is: 0.005471737030326711\n"
     ]
    },
    {
     "data": {
      "image/png": "[encoded data removed]",
      "text/plain": [
       "<Figure size 432x288 with 1 Axes>"
      ]
     },
     "metadata": {
      "needs_background": "light"
     },
     "output_type": "display_data"
    }
   ],
   "source": [
    "# Calculate the linear regression\n",
    "x_values=cities_northern_hem[\"Lat\"]\n",
    "y_values=cities_northern_hem[\"Wind Speed\"]\n",
    "\n",
    "(slope, intercept, rvalue, pvalue, stderr) = linregress(x_values, y_values)\n",
    "regress_values = x_values * slope + intercept\n",
    "\n",
    "line_eq = \"y = \" + str(round(slope,2)) + \"x + \" + str(round(intercept,2))\n",
    "\n",
    "plt.scatter(x_values, y_values)\n",
    "plt.plot(x_values,regress_values,\"r-\")\n",
    "plt.annotate(line_eq,(6,10),fontsize=15,color=\"red\")\n",
    "plt.xlabel(\"Latitude\")\n",
    "plt.ylabel(\"Wind Speed\")\n",
    "\n",
    "# Save the figure\n",
    "plt.savefig(\"NorthernHem Wind v Lat.png\")\n",
    "\n",
    "print(f\"The r-squared is: {rvalue**2}\")\n",
    "plt.show()"
   ]
  },
  {
   "cell_type": "markdown",
   "metadata": {},
   "source": [
    "####  Southern Hemisphere - Wind Speed (mph) vs. Latitude Linear Regression"
   ]
  },
  {
   "cell_type": "code",
   "execution_count": 29,
   "metadata": {},
   "outputs": [
    {
     "name": "stdout",
     "output_type": "stream",
     "text": [
      "The r-squared is: 0.002875085589172633\n"
     ]
    },
    {
     "data": {
      "image/png": "[encoded data removed]",
      "text/plain": [
       "<Figure size 432x288 with 1 Axes>"
      ]
     },
     "metadata": {
      "needs_background": "light"
     },
     "output_type": "display_data"
    }
   ],
   "source": [
    "# Calculate the linear regression\n",
    "x_values=cities_southern_hem[\"Lat\"]\n",
    "y_values=cities_southern_hem[\"Wind Speed\"]\n",
    "\n",
    "(slope, intercept, rvalue, pvalue, stderr) = linregress(x_values, y_values)\n",
    "regress_values = x_values * slope + intercept\n",
    "\n",
    "line_eq = \"y = \" + str(round(slope,2)) + \"x + \" + str(round(intercept,2))\n",
    "\n",
    "plt.scatter(x_values, y_values)\n",
    "plt.plot(x_values,regress_values,\"r-\")\n",
    "plt.annotate(line_eq,(6,10),fontsize=15,color=\"red\")\n",
    "plt.xlabel(\"Latitude\")\n",
    "plt.ylabel(\"Wind Speed\")\n",
    "\n",
    "# Save the figure\n",
    "plt.savefig(\"SouthernHem Wind v Lat.png\")\n",
    "\n",
    "print(f\"The r-squared is: {rvalue**2}\")\n",
    "plt.show()"
   ]
  },
  {
   "cell_type": "code",
   "execution_count": null,
   "metadata": {},
   "outputs": [],
   "source": []
  }
 ],
 "metadata": {
  "anaconda-cloud": {},
  "kernel_info": {
   "name": "python3"
  },
  "kernelspec": {
   "display_name": "Python 3",
   "language": "python",
   "name": "python3"
  },
  "language_info": {
   "codemirror_mode": {
    "name": "ipython",
    "version": 3
   },
   "file_extension": ".py",
   "mimetype": "text/x-python",
   "name": "python",
   "nbconvert_exporter": "python",
   "pygments_lexer": "ipython3",
   "version": "3.7.6"
  },
  "latex_envs": {
   "LaTeX_envs_menu_present": true,
   "autoclose": false,
   "autocomplete": true,
   "bibliofile": "biblio.bib",
   "cite_by": "apalike",
   "current_citInitial": 1,
   "eqLabelWithNumbers": true,
   "eqNumInitial": 1,
   "hotkeys": {
    "equation": "Ctrl-E",
    "itemize": "Ctrl-I"
   },
   "labels_anchors": false,
   "latex_user_defs": false,
   "report_style_numbering": false,
   "user_envs_cfg": false
  },
  "nteract": {
   "version": "0.12.3"
  }
 },
 "nbformat": 4,
 "nbformat_minor": 2
}
